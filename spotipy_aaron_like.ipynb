{
 "cells": [
  {
   "cell_type": "code",
   "execution_count": 50,
   "metadata": {},
   "outputs": [],
   "source": [
    "import sys\n",
    "import os\n",
    "\n",
    "import spotipy\n",
    "import json\n",
    "import pprint\n",
    "import pandas as pd\n",
    "import configparser\n",
    "import seaborn\n",
    "import matplotlib as plt\n",
    "\n",
    "\n",
    "import spotipy.oauth2 as oauth2\n",
    "import spotipy.util as util\n",
    "from spotipy.oauth2 import SpotifyClientCredentials"
   ]
  },
  {
   "cell_type": "code",
   "execution_count": 51,
   "metadata": {},
   "outputs": [],
   "source": [
    "config = configparser.ConfigParser()\n",
    "config.read('config_ernflerberg.cfg')\n",
    "client_id = config.get('SPOTIFY', 'CLIENT_ID')\n",
    "client_secret = config.get('SPOTIFY', 'CLIENT_SECRET')\n",
    "username = config.get('SPOTIFY', 'USERNAME')\n",
    "\n",
    "\n",
    "auth = oauth2.SpotifyClientCredentials(\n",
    "    client_id=client_id,\n",
    "    client_secret=client_secret\n",
    ")\n",
    "\n",
    "token = auth.get_access_token()\n",
    "spotify = spotipy.Spotify(auth=token)"
   ]
  },
  {
   "cell_type": "code",
   "execution_count": 52,
   "metadata": {
    "scrolled": true
   },
   "outputs": [],
   "source": [
    "uri = 'spotify:user:spotifycharts:playlist:37i9dQZEVXbJiZcmkrIHGU'\n",
    "username = username\n",
    "\n",
    "#aaron's like playlist 6ygnOWyCTMajdAY3vFM5BA\n",
    "playlist_id = \"67hGWrUlSHm47BmDWPHIZD\" #add the last part of the playlist url here. https://open.spotify.com/user/ernflerberg/playlist/67hGWrUlSHm47BmDWPHIZD?si=6ygnOWyCTMajdAY3vFM5BA\n",
    "\n",
    "results = spotify.user_playlist(username, playlist_id)\n"
   ]
  },
  {
   "cell_type": "code",
   "execution_count": 53,
   "metadata": {},
   "outputs": [
    {
     "data": {
      "text/plain": [
       "'1g5CHtsDQl7KVWaUiAwat0'"
      ]
     },
     "execution_count": 53,
     "metadata": {},
     "output_type": "execute_result"
    }
   ],
   "source": [
    "results['tracks']['items'][0]['track']['id']"
   ]
  },
  {
   "cell_type": "code",
   "execution_count": 86,
   "metadata": {},
   "outputs": [
    {
     "data": {
      "text/html": [
       "<div>\n",
       "<style scoped>\n",
       "    .dataframe tbody tr th:only-of-type {\n",
       "        vertical-align: middle;\n",
       "    }\n",
       "\n",
       "    .dataframe tbody tr th {\n",
       "        vertical-align: top;\n",
       "    }\n",
       "\n",
       "    .dataframe thead th {\n",
       "        text-align: right;\n",
       "    }\n",
       "</style>\n",
       "<table border=\"1\" class=\"dataframe\">\n",
       "  <thead>\n",
       "    <tr style=\"text-align: right;\">\n",
       "      <th></th>\n",
       "      <th>0</th>\n",
       "      <th>1</th>\n",
       "      <th>2</th>\n",
       "      <th>3</th>\n",
       "      <th>4</th>\n",
       "      <th>5</th>\n",
       "      <th>6</th>\n",
       "    </tr>\n",
       "  </thead>\n",
       "  <tbody>\n",
       "    <tr>\n",
       "      <th>0</th>\n",
       "      <td>1g5CHtsDQl7KVWaUiAwat0</td>\n",
       "      <td>2019-03-20T05:01:06Z</td>\n",
       "      <td>+44</td>\n",
       "      <td>When Your Heart Stops Beating</td>\n",
       "      <td>237533</td>\n",
       "      <td>Lycanthrope</td>\n",
       "      <td>41</td>\n",
       "    </tr>\n",
       "    <tr>\n",
       "      <th>1</th>\n",
       "      <td>1VpTwecl7EbQiGyVsvwFQE</td>\n",
       "      <td>2019-03-20T05:01:06Z</td>\n",
       "      <td>+44</td>\n",
       "      <td>When Your Heart Stops Beating</td>\n",
       "      <td>192786</td>\n",
       "      <td>When Your Heart Stops Beating</td>\n",
       "      <td>53</td>\n",
       "    </tr>\n",
       "    <tr>\n",
       "      <th>2</th>\n",
       "      <td>4isP4utvgJyHHp1iYOAMQQ</td>\n",
       "      <td>2019-03-20T05:01:06Z</td>\n",
       "      <td>+44</td>\n",
       "      <td>When Your Heart Stops Beating</td>\n",
       "      <td>211613</td>\n",
       "      <td>No, It Isn't</td>\n",
       "      <td>41</td>\n",
       "    </tr>\n",
       "    <tr>\n",
       "      <th>3</th>\n",
       "      <td>1zBFEYEwHKCahttaE2mhg7</td>\n",
       "      <td>2019-03-20T05:01:06Z</td>\n",
       "      <td>311</td>\n",
       "      <td>311 (Deluxe Version)</td>\n",
       "      <td>172053</td>\n",
       "      <td>Down</td>\n",
       "      <td>52</td>\n",
       "    </tr>\n",
       "    <tr>\n",
       "      <th>4</th>\n",
       "      <td>18ZOH3KKu5Elt5ysocFyX4</td>\n",
       "      <td>2019-03-20T05:01:06Z</td>\n",
       "      <td>311</td>\n",
       "      <td>311</td>\n",
       "      <td>179600</td>\n",
       "      <td>All Mixed Up</td>\n",
       "      <td>60</td>\n",
       "    </tr>\n",
       "  </tbody>\n",
       "</table>\n",
       "</div>"
      ],
      "text/plain": [
       "                        0                     1    2  \\\n",
       "0  1g5CHtsDQl7KVWaUiAwat0  2019-03-20T05:01:06Z  +44   \n",
       "1  1VpTwecl7EbQiGyVsvwFQE  2019-03-20T05:01:06Z  +44   \n",
       "2  4isP4utvgJyHHp1iYOAMQQ  2019-03-20T05:01:06Z  +44   \n",
       "3  1zBFEYEwHKCahttaE2mhg7  2019-03-20T05:01:06Z  311   \n",
       "4  18ZOH3KKu5Elt5ysocFyX4  2019-03-20T05:01:06Z  311   \n",
       "\n",
       "                               3       4                              5   6  \n",
       "0  When Your Heart Stops Beating  237533                    Lycanthrope  41  \n",
       "1  When Your Heart Stops Beating  192786  When Your Heart Stops Beating  53  \n",
       "2  When Your Heart Stops Beating  211613                   No, It Isn't  41  \n",
       "3           311 (Deluxe Version)  172053                           Down  52  \n",
       "4                            311  179600                   All Mixed Up  60  "
      ]
     },
     "execution_count": 86,
     "metadata": {},
     "output_type": "execute_result"
    }
   ],
   "source": [
    "df = []\n",
    "for i in results['tracks']['items']:\n",
    "    df.append([i['track']['id'],\n",
    "               i['added_at'], \n",
    "         i['track']['album']['artists'][0]['name'],\n",
    "         i['track']['album']['name'],\n",
    "         i['track']['duration_ms'],\n",
    "         i['track']['name'],\n",
    "         i['track']['popularity']])\n",
    "df = pd.DataFrame(df)  \n",
    "df.head()"
   ]
  },
  {
   "cell_type": "code",
   "execution_count": 55,
   "metadata": {},
   "outputs": [],
   "source": [
    "df.columns = ['song_id','added_at','Artist','Album','Durastion_ms','Song','Popularity']"
   ]
  },
  {
   "cell_type": "code",
   "execution_count": 56,
   "metadata": {},
   "outputs": [
    {
     "data": {
      "text/html": [
       "<div>\n",
       "<style scoped>\n",
       "    .dataframe tbody tr th:only-of-type {\n",
       "        vertical-align: middle;\n",
       "    }\n",
       "\n",
       "    .dataframe tbody tr th {\n",
       "        vertical-align: top;\n",
       "    }\n",
       "\n",
       "    .dataframe thead th {\n",
       "        text-align: right;\n",
       "    }\n",
       "</style>\n",
       "<table border=\"1\" class=\"dataframe\">\n",
       "  <thead>\n",
       "    <tr style=\"text-align: right;\">\n",
       "      <th></th>\n",
       "      <th>song_id</th>\n",
       "      <th>added_at</th>\n",
       "      <th>Artist</th>\n",
       "      <th>Album</th>\n",
       "      <th>Durastion_ms</th>\n",
       "      <th>Song</th>\n",
       "      <th>Popularity</th>\n",
       "    </tr>\n",
       "  </thead>\n",
       "  <tbody>\n",
       "    <tr>\n",
       "      <th>0</th>\n",
       "      <td>1g5CHtsDQl7KVWaUiAwat0</td>\n",
       "      <td>2019-03-20T05:01:06Z</td>\n",
       "      <td>+44</td>\n",
       "      <td>When Your Heart Stops Beating</td>\n",
       "      <td>237533</td>\n",
       "      <td>Lycanthrope</td>\n",
       "      <td>41</td>\n",
       "    </tr>\n",
       "    <tr>\n",
       "      <th>1</th>\n",
       "      <td>1VpTwecl7EbQiGyVsvwFQE</td>\n",
       "      <td>2019-03-20T05:01:06Z</td>\n",
       "      <td>+44</td>\n",
       "      <td>When Your Heart Stops Beating</td>\n",
       "      <td>192786</td>\n",
       "      <td>When Your Heart Stops Beating</td>\n",
       "      <td>53</td>\n",
       "    </tr>\n",
       "    <tr>\n",
       "      <th>2</th>\n",
       "      <td>4isP4utvgJyHHp1iYOAMQQ</td>\n",
       "      <td>2019-03-20T05:01:06Z</td>\n",
       "      <td>+44</td>\n",
       "      <td>When Your Heart Stops Beating</td>\n",
       "      <td>211613</td>\n",
       "      <td>No, It Isn't</td>\n",
       "      <td>41</td>\n",
       "    </tr>\n",
       "    <tr>\n",
       "      <th>3</th>\n",
       "      <td>1zBFEYEwHKCahttaE2mhg7</td>\n",
       "      <td>2019-03-20T05:01:06Z</td>\n",
       "      <td>311</td>\n",
       "      <td>311 (Deluxe Version)</td>\n",
       "      <td>172053</td>\n",
       "      <td>Down</td>\n",
       "      <td>52</td>\n",
       "    </tr>\n",
       "    <tr>\n",
       "      <th>4</th>\n",
       "      <td>18ZOH3KKu5Elt5ysocFyX4</td>\n",
       "      <td>2019-03-20T05:01:06Z</td>\n",
       "      <td>311</td>\n",
       "      <td>311</td>\n",
       "      <td>179600</td>\n",
       "      <td>All Mixed Up</td>\n",
       "      <td>60</td>\n",
       "    </tr>\n",
       "  </tbody>\n",
       "</table>\n",
       "</div>"
      ],
      "text/plain": [
       "                  song_id              added_at Artist  \\\n",
       "0  1g5CHtsDQl7KVWaUiAwat0  2019-03-20T05:01:06Z    +44   \n",
       "1  1VpTwecl7EbQiGyVsvwFQE  2019-03-20T05:01:06Z    +44   \n",
       "2  4isP4utvgJyHHp1iYOAMQQ  2019-03-20T05:01:06Z    +44   \n",
       "3  1zBFEYEwHKCahttaE2mhg7  2019-03-20T05:01:06Z    311   \n",
       "4  18ZOH3KKu5Elt5ysocFyX4  2019-03-20T05:01:06Z    311   \n",
       "\n",
       "                           Album  Durastion_ms                           Song  \\\n",
       "0  When Your Heart Stops Beating        237533                    Lycanthrope   \n",
       "1  When Your Heart Stops Beating        192786  When Your Heart Stops Beating   \n",
       "2  When Your Heart Stops Beating        211613                   No, It Isn't   \n",
       "3           311 (Deluxe Version)        172053                           Down   \n",
       "4                            311        179600                   All Mixed Up   \n",
       "\n",
       "   Popularity  \n",
       "0          41  \n",
       "1          53  \n",
       "2          41  \n",
       "3          52  \n",
       "4          60  "
      ]
     },
     "execution_count": 56,
     "metadata": {},
     "output_type": "execute_result"
    }
   ],
   "source": [
    "df.head()"
   ]
  },
  {
   "cell_type": "code",
   "execution_count": 57,
   "metadata": {},
   "outputs": [],
   "source": [
    "sp = spotipy.Spotify(auth=token)"
   ]
  },
  {
   "cell_type": "code",
   "execution_count": 58,
   "metadata": {},
   "outputs": [],
   "source": [
    "et = []\n",
    "for i in df.song_id:\n",
    "    x = sp.audio_features(i)\n",
    "    et.append([i,\n",
    "               x[0]['danceability'],\n",
    "                x[0]['energy'],\n",
    "                    x[0]['key'],\n",
    "                    x[0]['loudness'],\n",
    "                    x[0]['mode'],\n",
    "                    x[0]['speechiness'],\n",
    "                    x[0]['acousticness'],\n",
    "                    x[0]['instrumentalness'],\n",
    "                    x[0]['liveness'],\n",
    "                    x[0]['valence'],\n",
    "                    x[0]['tempo'],\n",
    "                    x[0]['time_signature']])\n",
    "et = pd.DataFrame(et)"
   ]
  },
  {
   "cell_type": "code",
   "execution_count": 59,
   "metadata": {},
   "outputs": [],
   "source": [
    "et.columns = ['song_id',\n",
    "             'danceability',\n",
    "             'energy',\n",
    "             'key',\n",
    "              'loudness',\n",
    "              'mode',\n",
    "              'speechiness',\n",
    "              'acousticness',\n",
    "              'instrumentalness',\n",
    "              'liveness',\n",
    "              'valence',\n",
    "              'tempo',\n",
    "              'time_signature'\n",
    "             ]"
   ]
  },
  {
   "cell_type": "code",
   "execution_count": 60,
   "metadata": {},
   "outputs": [],
   "source": [
    "DF = pd.merge(df, et, on='song_id')"
   ]
  },
  {
   "cell_type": "code",
   "execution_count": 61,
   "metadata": {},
   "outputs": [
    {
     "data": {
      "text/html": [
       "<div>\n",
       "<style scoped>\n",
       "    .dataframe tbody tr th:only-of-type {\n",
       "        vertical-align: middle;\n",
       "    }\n",
       "\n",
       "    .dataframe tbody tr th {\n",
       "        vertical-align: top;\n",
       "    }\n",
       "\n",
       "    .dataframe thead th {\n",
       "        text-align: right;\n",
       "    }\n",
       "</style>\n",
       "<table border=\"1\" class=\"dataframe\">\n",
       "  <thead>\n",
       "    <tr style=\"text-align: right;\">\n",
       "      <th></th>\n",
       "      <th>song_id</th>\n",
       "      <th>added_at</th>\n",
       "      <th>Artist</th>\n",
       "      <th>Album</th>\n",
       "      <th>Durastion_ms</th>\n",
       "      <th>Song</th>\n",
       "      <th>Popularity</th>\n",
       "      <th>danceability</th>\n",
       "      <th>energy</th>\n",
       "      <th>key</th>\n",
       "      <th>loudness</th>\n",
       "      <th>mode</th>\n",
       "      <th>speechiness</th>\n",
       "      <th>acousticness</th>\n",
       "      <th>instrumentalness</th>\n",
       "      <th>liveness</th>\n",
       "      <th>valence</th>\n",
       "      <th>tempo</th>\n",
       "      <th>time_signature</th>\n",
       "    </tr>\n",
       "  </thead>\n",
       "  <tbody>\n",
       "    <tr>\n",
       "      <th>0</th>\n",
       "      <td>1g5CHtsDQl7KVWaUiAwat0</td>\n",
       "      <td>2019-03-20T05:01:06Z</td>\n",
       "      <td>+44</td>\n",
       "      <td>When Your Heart Stops Beating</td>\n",
       "      <td>237533</td>\n",
       "      <td>Lycanthrope</td>\n",
       "      <td>41</td>\n",
       "      <td>0.363</td>\n",
       "      <td>0.989</td>\n",
       "      <td>9</td>\n",
       "      <td>-2.361</td>\n",
       "      <td>0</td>\n",
       "      <td>0.0942</td>\n",
       "      <td>0.000037</td>\n",
       "      <td>0.000000</td>\n",
       "      <td>0.0687</td>\n",
       "      <td>0.467</td>\n",
       "      <td>168.015</td>\n",
       "      <td>4</td>\n",
       "    </tr>\n",
       "    <tr>\n",
       "      <th>1</th>\n",
       "      <td>1VpTwecl7EbQiGyVsvwFQE</td>\n",
       "      <td>2019-03-20T05:01:06Z</td>\n",
       "      <td>+44</td>\n",
       "      <td>When Your Heart Stops Beating</td>\n",
       "      <td>192786</td>\n",
       "      <td>When Your Heart Stops Beating</td>\n",
       "      <td>53</td>\n",
       "      <td>0.420</td>\n",
       "      <td>0.968</td>\n",
       "      <td>9</td>\n",
       "      <td>-2.353</td>\n",
       "      <td>0</td>\n",
       "      <td>0.1230</td>\n",
       "      <td>0.000232</td>\n",
       "      <td>0.000000</td>\n",
       "      <td>0.0796</td>\n",
       "      <td>0.392</td>\n",
       "      <td>171.004</td>\n",
       "      <td>4</td>\n",
       "    </tr>\n",
       "    <tr>\n",
       "      <th>2</th>\n",
       "      <td>4isP4utvgJyHHp1iYOAMQQ</td>\n",
       "      <td>2019-03-20T05:01:06Z</td>\n",
       "      <td>+44</td>\n",
       "      <td>When Your Heart Stops Beating</td>\n",
       "      <td>211613</td>\n",
       "      <td>No, It Isn't</td>\n",
       "      <td>41</td>\n",
       "      <td>0.482</td>\n",
       "      <td>0.640</td>\n",
       "      <td>9</td>\n",
       "      <td>-4.695</td>\n",
       "      <td>1</td>\n",
       "      <td>0.0244</td>\n",
       "      <td>0.021000</td>\n",
       "      <td>0.000000</td>\n",
       "      <td>0.2120</td>\n",
       "      <td>0.450</td>\n",
       "      <td>95.030</td>\n",
       "      <td>4</td>\n",
       "    </tr>\n",
       "    <tr>\n",
       "      <th>3</th>\n",
       "      <td>1zBFEYEwHKCahttaE2mhg7</td>\n",
       "      <td>2019-03-20T05:01:06Z</td>\n",
       "      <td>311</td>\n",
       "      <td>311 (Deluxe Version)</td>\n",
       "      <td>172053</td>\n",
       "      <td>Down</td>\n",
       "      <td>52</td>\n",
       "      <td>0.440</td>\n",
       "      <td>0.935</td>\n",
       "      <td>6</td>\n",
       "      <td>-6.304</td>\n",
       "      <td>0</td>\n",
       "      <td>0.0692</td>\n",
       "      <td>0.000165</td>\n",
       "      <td>0.000002</td>\n",
       "      <td>0.3200</td>\n",
       "      <td>0.578</td>\n",
       "      <td>175.253</td>\n",
       "      <td>4</td>\n",
       "    </tr>\n",
       "    <tr>\n",
       "      <th>4</th>\n",
       "      <td>18ZOH3KKu5Elt5ysocFyX4</td>\n",
       "      <td>2019-03-20T05:01:06Z</td>\n",
       "      <td>311</td>\n",
       "      <td>311</td>\n",
       "      <td>179600</td>\n",
       "      <td>All Mixed Up</td>\n",
       "      <td>60</td>\n",
       "      <td>0.760</td>\n",
       "      <td>0.702</td>\n",
       "      <td>10</td>\n",
       "      <td>-9.404</td>\n",
       "      <td>0</td>\n",
       "      <td>0.0716</td>\n",
       "      <td>0.010400</td>\n",
       "      <td>0.000000</td>\n",
       "      <td>0.3800</td>\n",
       "      <td>0.659</td>\n",
       "      <td>92.324</td>\n",
       "      <td>4</td>\n",
       "    </tr>\n",
       "  </tbody>\n",
       "</table>\n",
       "</div>"
      ],
      "text/plain": [
       "                  song_id              added_at Artist  \\\n",
       "0  1g5CHtsDQl7KVWaUiAwat0  2019-03-20T05:01:06Z    +44   \n",
       "1  1VpTwecl7EbQiGyVsvwFQE  2019-03-20T05:01:06Z    +44   \n",
       "2  4isP4utvgJyHHp1iYOAMQQ  2019-03-20T05:01:06Z    +44   \n",
       "3  1zBFEYEwHKCahttaE2mhg7  2019-03-20T05:01:06Z    311   \n",
       "4  18ZOH3KKu5Elt5ysocFyX4  2019-03-20T05:01:06Z    311   \n",
       "\n",
       "                           Album  Durastion_ms                           Song  \\\n",
       "0  When Your Heart Stops Beating        237533                    Lycanthrope   \n",
       "1  When Your Heart Stops Beating        192786  When Your Heart Stops Beating   \n",
       "2  When Your Heart Stops Beating        211613                   No, It Isn't   \n",
       "3           311 (Deluxe Version)        172053                           Down   \n",
       "4                            311        179600                   All Mixed Up   \n",
       "\n",
       "   Popularity  danceability  energy  key  loudness  mode  speechiness  \\\n",
       "0          41         0.363   0.989    9    -2.361     0       0.0942   \n",
       "1          53         0.420   0.968    9    -2.353     0       0.1230   \n",
       "2          41         0.482   0.640    9    -4.695     1       0.0244   \n",
       "3          52         0.440   0.935    6    -6.304     0       0.0692   \n",
       "4          60         0.760   0.702   10    -9.404     0       0.0716   \n",
       "\n",
       "   acousticness  instrumentalness  liveness  valence    tempo  time_signature  \n",
       "0      0.000037          0.000000    0.0687    0.467  168.015               4  \n",
       "1      0.000232          0.000000    0.0796    0.392  171.004               4  \n",
       "2      0.021000          0.000000    0.2120    0.450   95.030               4  \n",
       "3      0.000165          0.000002    0.3200    0.578  175.253               4  \n",
       "4      0.010400          0.000000    0.3800    0.659   92.324               4  "
      ]
     },
     "execution_count": 61,
     "metadata": {},
     "output_type": "execute_result"
    }
   ],
   "source": [
    "DF.head()"
   ]
  },
  {
   "cell_type": "code",
   "execution_count": 62,
   "metadata": {},
   "outputs": [
    {
     "data": {
      "image/png": "[encoded data removed]",
      "text/plain": [
       "<Figure size 576x360 with 1 Axes>"
      ]
     },
     "metadata": {},
     "output_type": "display_data"
    }
   ],
   "source": [
    "seaborn.set(style='whitegrid', palette=\"deep\", font_scale=1.1, rc={\"figure.figsize\": [8, 5]})\n",
    "seaborn.distplot(\n",
    "    et['loudness'], norm_hist=False, kde=False, bins=20, hist_kws={\"alpha\": 1}\n",
    ").set(xlabel='Loudness', ylabel='Count');"
   ]
  },
  {
   "cell_type": "code",
   "execution_count": 63,
   "metadata": {},
   "outputs": [
    {
     "data": {
      "image/png": "[encoded data removed]",
      "text/plain": [
       "<Figure size 576x360 with 1 Axes>"
      ]
     },
     "metadata": {},
     "output_type": "display_data"
    }
   ],
   "source": [
    "seaborn.set(style='whitegrid', palette=\"deep\", font_scale=1.1, rc={\"figure.figsize\": [8, 5]})\n",
    "seaborn.distplot(\n",
    "    et['energy'], norm_hist=False, kde=False, bins=20, hist_kws={\"alpha\": 1}\n",
    ").set(xlabel='Energy', ylabel='Count');"
   ]
  },
  {
   "cell_type": "code",
   "execution_count": 64,
   "metadata": {},
   "outputs": [
    {
     "data": {
      "image/png": "[encoded data removed]",
      "text/plain": [
       "<Figure size 576x360 with 1 Axes>"
      ]
     },
     "metadata": {},
     "output_type": "display_data"
    }
   ],
   "source": [
    "seaborn.countplot(et['time_signature']);"
   ]
  },
  {
   "cell_type": "code",
   "execution_count": 65,
   "metadata": {},
   "outputs": [
    {
     "data": {
      "image/png": "[encoded data removed]",
      "text/plain": [
       "<Figure size 576x360 with 1 Axes>"
      ]
     },
     "metadata": {},
     "output_type": "display_data"
    }
   ],
   "source": [
    "seaborn.countplot(et['key']);"
   ]
  },
  {
   "cell_type": "code",
   "execution_count": 69,
   "metadata": {},
   "outputs": [
    {
     "data": {
      "image/png": "[encoded data removed]",
      "text/plain": [
       "<Figure size 576x360 with 1 Axes>"
      ]
     },
     "metadata": {},
     "output_type": "display_data"
    }
   ],
   "source": [
    "seaborn.scatterplot(x=et['loudness'], y=et['energy']);"
   ]
  },
  {
   "cell_type": "code",
   "execution_count": 70,
   "metadata": {},
   "outputs": [
    {
     "data": {
      "image/png": "[encoded data removed]",
      "text/plain": [
       "<Figure size 432x432 with 3 Axes>"
      ]
     },
     "metadata": {},
     "output_type": "display_data"
    }
   ],
   "source": [
    "seaborn.jointplot(x=et['loudness'], y=et['energy']);"
   ]
  },
  {
   "cell_type": "code",
   "execution_count": 92,
   "metadata": {},
   "outputs": [
    {
     "data": {
      "text/plain": [
       "<matplotlib.axes._subplots.AxesSubplot at 0x51713d0>"
      ]
     },
     "execution_count": 92,
     "metadata": {},
     "output_type": "execute_result"
    },
    {
     "data": {
      "image/png": "[encoded data removed]",
      "text/plain": [
       "<Figure size 576x360 with 1 Axes>"
      ]
     },
     "metadata": {},
     "output_type": "display_data"
    }
   ],
   "source": [
    "sorted_nb = DF.groupby(['Artist'])['loudness'].median().sort_values()\n",
    "seaborn.boxplot(x=DF['Artist'], y=DF['loudness'], order=list(sorted_nb.index))"
   ]
  },
  {
   "cell_type": "code",
   "execution_count": null,
   "metadata": {},
   "outputs": [],
   "source": []
  }
 ],
 "metadata": {
  "kernelspec": {
   "display_name": "Python 3",
   "language": "python",
   "name": "python3"
  },
  "language_info": {
   "codemirror_mode": {
    "name": "ipython",
    "version": 3
   },
   "file_extension": ".py",
   "mimetype": "text/x-python",
   "name": "python",
   "nbconvert_exporter": "python",
   "pygments_lexer": "ipython3",
   "version": "3.7.3"
  }
 },
 "nbformat": 4,
 "nbformat_minor": 2
}
